{
  "cells": [
    {
      "cell_type": "markdown",
      "metadata": {
        "id": "LLzs9IdXVI6K"
      },
      "source": [
        "# **Detection of Cyber Attacks using ML**"
      ]
    },
    {
      "cell_type": "code",
      "execution_count": null,
      "metadata": {
        "colab": {
          "base_uri": "https://localhost:8080/"
        },
        "id": "2rLvaLlkYxcr",
        "outputId": "1529da28-e982-4dd0-b2b9-8d67cc8a6b12"
      },
      "outputs": [
        {
          "name": "stdout",
          "output_type": "stream",
          "text": [
            "Looking in indexes: https://pypi.org/simple, https://us-python.pkg.dev/colab-wheels/public/simple/\n",
            "Collecting catboost\n",
            "  Downloading catboost-1.1.1-cp39-none-manylinux1_x86_64.whl (76.6 MB)\n",
            "\u001b[2K     \u001b[90m━━━━━━━━━━━━━━━━━━━━━━━━━━━━━━━━━━━━━━━━\u001b[0m \u001b[32m76.6/76.6 MB\u001b[0m \u001b[31m10.9 MB/s\u001b[0m eta \u001b[36m0:00:00\u001b[0m\n",
            "\u001b[?25hRequirement already satisfied: numpy>=1.16.0 in /usr/local/lib/python3.9/dist-packages (from catboost) (1.22.4)\n",
            "Requirement already satisfied: plotly in /usr/local/lib/python3.9/dist-packages (from catboost) (5.13.1)\n",
            "Requirement already satisfied: six in /usr/local/lib/python3.9/dist-packages (from catboost) (1.16.0)\n",
            "Requirement already satisfied: pandas>=0.24.0 in /usr/local/lib/python3.9/dist-packages (from catboost) (1.4.4)\n",
            "Requirement already satisfied: matplotlib in /usr/local/lib/python3.9/dist-packages (from catboost) (3.7.1)\n",
            "Requirement already satisfied: scipy in /usr/local/lib/python3.9/dist-packages (from catboost) (1.10.1)\n",
            "Requirement already satisfied: graphviz in /usr/local/lib/python3.9/dist-packages (from catboost) (0.20.1)\n",
            "Requirement already satisfied: python-dateutil>=2.8.1 in /usr/local/lib/python3.9/dist-packages (from pandas>=0.24.0->catboost) (2.8.2)\n",
            "Requirement already satisfied: pytz>=2020.1 in /usr/local/lib/python3.9/dist-packages (from pandas>=0.24.0->catboost) (2022.7.1)\n",
            "Requirement already satisfied: importlib-resources>=3.2.0 in /usr/local/lib/python3.9/dist-packages (from matplotlib->catboost) (5.12.0)\n",
            "Requirement already satisfied: kiwisolver>=1.0.1 in /usr/local/lib/python3.9/dist-packages (from matplotlib->catboost) (1.4.4)\n",
            "Requirement already satisfied: pillow>=6.2.0 in /usr/local/lib/python3.9/dist-packages (from matplotlib->catboost) (8.4.0)\n",
            "Requirement already satisfied: cycler>=0.10 in /usr/local/lib/python3.9/dist-packages (from matplotlib->catboost) (0.11.0)\n",
            "Requirement already satisfied: pyparsing>=2.3.1 in /usr/local/lib/python3.9/dist-packages (from matplotlib->catboost) (3.0.9)\n",
            "Requirement already satisfied: packaging>=20.0 in /usr/local/lib/python3.9/dist-packages (from matplotlib->catboost) (23.0)\n",
            "Requirement already satisfied: contourpy>=1.0.1 in /usr/local/lib/python3.9/dist-packages (from matplotlib->catboost) (1.0.7)\n",
            "Requirement already satisfied: fonttools>=4.22.0 in /usr/local/lib/python3.9/dist-packages (from matplotlib->catboost) (4.39.2)\n",
            "Requirement already satisfied: tenacity>=6.2.0 in /usr/local/lib/python3.9/dist-packages (from plotly->catboost) (8.2.2)\n",
            "Requirement already satisfied: zipp>=3.1.0 in /usr/local/lib/python3.9/dist-packages (from importlib-resources>=3.2.0->matplotlib->catboost) (3.15.0)\n",
            "Installing collected packages: catboost\n",
            "Successfully installed catboost-1.1.1\n"
          ]
        }
      ],
      "source": [
        "pip install catboost"
      ]
    },
    {
      "cell_type": "code",
      "execution_count": null,
      "metadata": {
        "id": "OAaWoN6xFfkr"
      },
      "outputs": [],
      "source": [
        "#importing basic packages\n",
        "\n",
        "import os\n",
        "import timeit\n",
        "import warnings\n",
        "from collections import defaultdict\n",
        "\n",
        "import catboost as cb\n",
        "import lightgbm as lgb\n",
        "import matplotlib.pyplot as plt\n",
        "import numpy as np\n",
        "import pandas as pd\n",
        "import xgboost as xgb\n",
        "from imblearn.under_sampling import CondensedNearestNeighbour\n",
        "from sklearn.ensemble import AdaBoostClassifier\n",
        "from sklearn.ensemble import RandomForestClassifier, VotingClassifier\n",
        "from sklearn.linear_model import LogisticRegression\n",
        "from sklearn.linear_model import SGDClassifier\n",
        "from sklearn.metrics import accuracy_score, classification_report\n",
        "#plot_confusion_matrix\n",
        "from sklearn.metrics import confusion_matrix, zero_one_loss\n",
        "from sklearn.model_selection import GridSearchCV\n",
        "from sklearn.neighbors import KNeighborsClassifier\n",
        "from sklearn.neural_network import MLPClassifier\n",
        "from sklearn.preprocessing import MinMaxScaler\n",
        "from sklearn.preprocessing import RobustScaler\n",
        "from sklearn.preprocessing import StandardScaler\n",
        "from sklearn.svm import SVC\n",
        "from sklearn.tree import DecisionTreeClassifier\n",
        "from termcolor import colored"
      ]
    },
    {
      "cell_type": "markdown",
      "metadata": {
        "id": "VfQnl0arWKkU"
      },
      "source": [
        "# **Loading Data**"
      ]
    },
    {
      "cell_type": "code",
      "execution_count": null,
      "metadata": {
        "id": "1OQmSX4HIRCz"
      },
      "outputs": [],
      "source": [
        "#warnings.filterwarnings('ignore’)\n",
        "\n",
        "np.random.seed(100)\n",
        "\n",
        "dataset_root = r'/content/drive/MyDrive/archive'\n",
        "train_file = os.path.join(dataset_root, 'KDDTrain+.txt')\n",
        "test_file = os.path.join(dataset_root, 'KDDTest+.txt')"
      ]
    },
    {
      "cell_type": "code",
      "execution_count": null,
      "metadata": {
        "id": "dCfR8l_SKoeX"
      },
      "outputs": [],
      "source": [
        "header_names = ['duration', 'protocol_type', 'service', 'flag', 'src_bytes', 'dst_bytes', 'land', 'wrong_fragment',\n",
        "'urgent', 'hot', 'num_failed_logins', 'logged_in', 'num_compromised', 'root_shell', 'su_attempted',\n",
        "'num_root', 'num_file_creations', 'num_shells', 'num_access_files', 'num_outbound_cmds',\n",
        "'is_host_login', 'is_guest_login', 'count', 'srv_count', 'serror_rate', 'srv_serror_rate',\n",
        "'rerror_rate', 'srv_rerror_rate', 'same_srv_rate', 'diff_srv_rate', 'srv_diff_host_rate',\n",
        "'dst_host_count', 'dst_host_srv_count', 'dst_host_same_srv_rate', 'dst_host_diff_srv_rate',\n",
        "'dst_host_same_src_port_rate', 'dst_host_srv_diff_host_rate', 'dst_host_serror_rate',\n",
        "'dst_host_srv_serror_rate', 'dst_host_rerror_rate', 'dst_host_srv_rerror_rate', 'attack_type',\n",
        "'success_pred']"
      ]
    },
    {
      "cell_type": "code",
      "execution_count": null,
      "metadata": {
        "colab": {
          "base_uri": "https://localhost:8080/"
        },
        "id": "zy3w7kUqPD-8",
        "outputId": "0f72c5a4-e614-4532-de35-fd2d0c5f7e13"
      },
      "outputs": [
        {
          "data": {
            "text/plain": [
              "43"
            ]
          },
          "execution_count": 18,
          "metadata": {},
          "output_type": "execute_result"
        }
      ],
      "source": [
        "len(header_names)"
      ]
    },
    {
      "cell_type": "markdown",
      "metadata": {
        "id": "5o7-a6AGV_Y4"
      },
      "source": [
        "# **Data Preprocessing**"
      ]
    },
    {
      "cell_type": "code",
      "execution_count": null,
      "metadata": {
        "id": "eRlhw5TEPdpj"
      },
      "outputs": [],
      "source": [
        "#Converting header into array\n",
        "\n",
        "col_names = np.array(header_names)\n",
        "\n",
        "#No retationship b/w nuserics\n",
        "\n",
        "nominal_idx = [1, 2, 3]\n",
        "\n",
        "#binaryb values\n",
        "\n",
        "binary_idx = [6, 11, 13, 14, 20, 21]\n",
        "#difference between two sets.\n",
        "\n",
        "numeric_idx = list(set(range(41)).difference(nominal_idx).difference(binary_idx))\n",
        "nominal_cols = col_names[nominal_idx].tolist()\n",
        "binary_cols = col_names[binary_idx].tolist()\n",
        "numeric_cols = col_names[numeric_idx].tolist()"
      ]
    },
    {
      "cell_type": "code",
      "execution_count": null,
      "metadata": {
        "colab": {
          "base_uri": "https://localhost:8080/"
        },
        "id": "7LwWyYd3RryX",
        "outputId": "30d3f14d-23fb-45e2-cd53-a70597054ad6"
      },
      "outputs": [
        {
          "name": "stdout",
          "output_type": "stream",
          "text": [
            "['protocol_type', 'service', 'flag']\n"
          ]
        }
      ],
      "source": [
        "print(nominal_cols)"
      ]
    },
    {
      "cell_type": "code",
      "execution_count": null,
      "metadata": {
        "colab": {
          "base_uri": "https://localhost:8080/"
        },
        "id": "KAYXUHZNRr0y",
        "outputId": "0e976ca8-4944-4994-da43-d679d16056ff"
      },
      "outputs": [
        {
          "name": "stdout",
          "output_type": "stream",
          "text": [
            "['land', 'logged_in', 'root_shell', 'su_attempted', 'is_host_login', 'is_guest_login']\n"
          ]
        }
      ],
      "source": [
        "print(binary_cols)"
      ]
    },
    {
      "cell_type": "code",
      "execution_count": null,
      "metadata": {
        "colab": {
          "base_uri": "https://localhost:8080/"
        },
        "id": "_ibrK1QGR0pE",
        "outputId": "d59ed498-be93-4692-d740-ebcad596447a"
      },
      "outputs": [
        {
          "name": "stdout",
          "output_type": "stream",
          "text": [
            "['duration', 'src_bytes', 'dst_bytes', 'wrong_fragment', 'urgent', 'hot', 'num_failed_logins', 'num_compromised', 'num_root', 'num_file_creations', 'num_shells', 'num_access_files', 'num_outbound_cmds', 'count', 'srv_count', 'serror_rate', 'srv_serror_rate', 'rerror_rate', 'srv_rerror_rate', 'same_srv_rate', 'diff_srv_rate', 'srv_diff_host_rate', 'dst_host_count', 'dst_host_srv_count', 'dst_host_same_srv_rate', 'dst_host_diff_srv_rate', 'dst_host_same_src_port_rate', 'dst_host_srv_diff_host_rate', 'dst_host_serror_rate', 'dst_host_srv_serror_rate', 'dst_host_rerror_rate', 'dst_host_srv_rerror_rate']\n"
          ]
        }
      ],
      "source": [
        "print(numeric_cols)"
      ]
    },
    {
      "cell_type": "code",
      "execution_count": null,
      "metadata": {
        "colab": {
          "background_save": true,
          "base_uri": "https://localhost:8080/",
          "height": 232
        },
        "id": "NRQp-yWKR55L",
        "outputId": "d4a8ac03-fd6f-4353-c813-636dd537c5c3"
      },
      "outputs": [
        {
          "ename": "FileNotFoundError",
          "evalue": "ignored",
          "output_type": "error",
          "traceback": [
            "\u001b[0;31m---------------------------------------------------------------------------\u001b[0m",
            "\u001b[0;31mFileNotFoundError\u001b[0m                         Traceback (most recent call last)",
            "\u001b[0;32m<ipython-input-24-70ae39c0e8bd>\u001b[0m in \u001b[0;36m<module>\u001b[0;34m\u001b[0m\n\u001b[1;32m      2\u001b[0m \u001b[0mcategory\u001b[0m\u001b[0;34m[\u001b[0m\u001b[0;34m'begin'\u001b[0m\u001b[0;34m]\u001b[0m\u001b[0;34m.\u001b[0m\u001b[0mappend\u001b[0m\u001b[0;34m(\u001b[0m\u001b[0;34m'normal'\u001b[0m\u001b[0;34m)\u001b[0m\u001b[0;34m\u001b[0m\u001b[0;34m\u001b[0m\u001b[0m\n\u001b[1;32m      3\u001b[0m \u001b[0;34m\u001b[0m\u001b[0m\n\u001b[0;32m----> 4\u001b[0;31m \u001b[0;32mwith\u001b[0m \u001b[0mopen\u001b[0m\u001b[0;34m(\u001b[0m\u001b[0;34mr'/content/drive/MyDrive/archive/KDDTrain+.txt'\u001b[0m\u001b[0;34m,\u001b[0m \u001b[0;34m'r'\u001b[0m\u001b[0;34m)\u001b[0m \u001b[0;32mas\u001b[0m \u001b[0mf\u001b[0m\u001b[0;34m:\u001b[0m\u001b[0;34m\u001b[0m\u001b[0;34m\u001b[0m\u001b[0m\n\u001b[0m\u001b[1;32m      5\u001b[0m   \u001b[0;32mfor\u001b[0m \u001b[0mline\u001b[0m \u001b[0;32min\u001b[0m \u001b[0mf\u001b[0m\u001b[0;34m.\u001b[0m\u001b[0mreadlines\u001b[0m\u001b[0;34m(\u001b[0m\u001b[0;34m)\u001b[0m\u001b[0;34m:\u001b[0m\u001b[0;34m\u001b[0m\u001b[0;34m\u001b[0m\u001b[0m\n\u001b[1;32m      6\u001b[0m     \u001b[0mattack\u001b[0m\u001b[0;34m,\u001b[0m \u001b[0mcat\u001b[0m \u001b[0;34m=\u001b[0m \u001b[0mline\u001b[0m\u001b[0;34m.\u001b[0m\u001b[0mstrip\u001b[0m\u001b[0;34m(\u001b[0m\u001b[0;34m)\u001b[0m\u001b[0;34m.\u001b[0m\u001b[0msplit\u001b[0m\u001b[0;34m(\u001b[0m\u001b[0;34m' '\u001b[0m\u001b[0;34m)\u001b[0m\u001b[0;34m\u001b[0m\u001b[0;34m\u001b[0m\u001b[0m\n",
            "\u001b[0;31mFileNotFoundError\u001b[0m: [Errno 2] No such file or directory: '/content/drive/MyDrive/archive/KDDTrain+.txt'"
          ]
        }
      ],
      "source": [
        "category = defaultdict(list)\n",
        "category['begin'].append('normal')\n",
        "\n",
        "with open(r'/content/drive/MyDrive/archive/training_attack_types.txt', 'r') as f:\n",
        "  for line in f.readlines():\n",
        "    attack, cat = line.strip().split(' ')\n",
        "    category[cat].append(attack)\n",
        "\n",
        "attack_mapping = dict((v,k) for k in category for v in category[k])\n",
        "train_df = pd.read_csv(train_file, names=header_names)\n",
        "\n",
        "train_df['attack_category'] = train_df['attack_type'] \\\n",
        "  .map(lambda x: attack_mapping[x])\n",
        "train_df.drop(['success_pred'],axis=1, inplace=True)\n",
        "\n",
        "test_df = pd.read_csv(test_file, names=header_names)\n",
        "test_df['attack_category'] = test_df['attack_type'] \\\n",
        "  .map(lambda x: attack_mapping[x])\n",
        "test_df.drop(['success_pred'],axis=1, inplace=True)\n",
        "\n",
        "train_attack_types = train_df['attack_type'].value_counts()\n",
        "train_attack_cats = train_df['attack_category'].value_counts()\n",
        "\n",
        "test_attack_types = test_df['attack_type'].value_counts()\n",
        "test_attack_cats = test_df['attack_category'].value_counts()\n",
        "\n",
        "train_attack_types.plot(kind= 'barh', figsize=(20,10), fontsize=20)\n",
        "\n",
        "train_attack_cats.plot(kind= 'barh', figsize=(20,10), fontsize=30)\n",
        "\n",
        "test_attack_types.plot(kind='barh', figsize=(20,10), fontsize=15)\n",
        "\n",
        "test_attack_cats.plot(kind='barh', figsize=(20,10), fontsize=30)\n"
      ]
    },
    {
      "cell_type": "code",
      "execution_count": null,
      "metadata": {
        "id": "ovA4efULU_NQ"
      },
      "outputs": [],
      "source": [
        "print(category)"
      ]
    },
    {
      "cell_type": "code",
      "execution_count": null,
      "metadata": {
        "id": "-0BlyP9XkvEb"
      },
      "outputs": [],
      "source": [
        "train_df.head()"
      ]
    },
    {
      "cell_type": "code",
      "execution_count": null,
      "metadata": {
        "id": "AYWRgDszk221"
      },
      "outputs": [],
      "source": [
        "train_df[binary_cols].describe().transpose()"
      ]
    },
    {
      "cell_type": "code",
      "execution_count": null,
      "metadata": {
        "id": "NFdBCji-k25j"
      },
      "outputs": [],
      "source": [
        "train_df.groupby(['su_attempted']).size()"
      ]
    },
    {
      "cell_type": "code",
      "execution_count": null,
      "metadata": {
        "id": "QwhBDFeKk2_h"
      },
      "outputs": [],
      "source": [
        "train_df['su_attempted'].replace(2,0,inplace=True)\n",
        "test_df['su_attempted'].replace(2,0,inplace=True)\n",
        "train_df.groupby(['su_attempted']).size()"
      ]
    },
    {
      "cell_type": "code",
      "execution_count": null,
      "metadata": {
        "id": "nODlpLmXlnBN"
      },
      "outputs": [],
      "source": [
        "train_df.groupby(['num_outbound_cmds']).size()"
      ]
    },
    {
      "cell_type": "code",
      "execution_count": null,
      "metadata": {
        "id": "E5JdCUSclnDq"
      },
      "outputs": [],
      "source": [
        "train_df.drop('num_outbound_cmds', axis=1, inplace=True)\n",
        "test_df.drop('num_outbound_cmds', axis=1, inplace=True)\n",
        "#numeric_cols.remove('num_outbound_cmds')\n",
        "#Data Preparation\n",
        "train_Y = train_df['attack_category']\n",
        "train_x_raw = train_df.drop(['attack_category','attack_type'], axis=1)\n",
        "test_Y = test_df['attack_category']\n",
        "test_x_raw = test_df.drop(['attack_category','attack_type'], axis=1)\n",
        "\n",
        "combined_df_raw = pd.concat([train_x_raw, test_x_raw])\n",
        "combined_df = pd.get_dummies(combined_df_raw, columns=nominal_cols, drop_first=True)\n",
        "\n",
        "train_x = combined_df[:len(train_x_raw)]\n",
        "test_x = combined_df[len(train_x_raw):]"
      ]
    },
    {
      "cell_type": "code",
      "execution_count": null,
      "metadata": {
        "id": "_SBEdhktlnGO"
      },
      "outputs": [],
      "source": [
        "x_train = train_x_raw\n",
        "x_test = test_x_raw"
      ]
    },
    {
      "cell_type": "markdown",
      "metadata": {
        "id": "1JcC9RfwtKwq"
      },
      "source": [
        "# **Training**"
      ]
    },
    {
      "cell_type": "code",
      "execution_count": null,
      "metadata": {
        "id": "4cPcvCFgsOdk"
      },
      "outputs": [],
      "source": [
        "# Creating holders to store the model performance results\n",
        "ML_Model = []\n",
        "acc_train = []\n",
        "acc_test = []\n",
        "#function to call for storing the results\n",
        "def storeResults(model, a,b):\n",
        "  ML_Model.append(model)\n",
        "  acc_train.append(round(a, 3))\n",
        "  acc_test.append(round(b, 3))"
      ]
    },
    {
      "cell_type": "code",
      "execution_count": null,
      "metadata": {
        "id": "fBGULZ6usOhG"
      },
      "outputs": [],
      "source": [
        "#importing packoges\n",
        "from sklearn.metrics import accuracy_score\n",
        "X_train=train_x\n",
        "y_train=train_Y\n",
        "X_test=test_x\n",
        "y_test=test_Y"
      ]
    },
    {
      "cell_type": "markdown",
      "metadata": {
        "id": "Vzi_TPUjtwBu"
      },
      "source": [
        "# **1. Decision Tree Classifier**"
      ]
    },
    {
      "cell_type": "code",
      "execution_count": null,
      "metadata": {
        "id": "Z4qtfcxiuCAE"
      },
      "outputs": [],
      "source": [
        "# Dectsion Tree model\n",
        "from sklearn.tree import DecisionTreeClassifier\n",
        "# instantiate the model\n",
        "tree = DecisionTreeClassifier(max_depth = 5)\n",
        "# fit the model\n",
        "tree.fit(X_train, y_train)"
      ]
    },
    {
      "cell_type": "code",
      "execution_count": null,
      "metadata": {
        "id": "seJj_iCruS8v"
      },
      "outputs": [],
      "source": [
        "#predicting the target value from the model for the somples\n",
        "y_test_tree = tree.predict(X_test)\n",
        "y_train_tree = tree.predict(X_train)"
      ]
    },
    {
      "cell_type": "code",
      "execution_count": null,
      "metadata": {
        "id": "WJ_UPE0PuS_1"
      },
      "outputs": [],
      "source": [
        "#computing the accuracy of the model performance\n",
        "acc_train_tree = accuracy_score(y_train,y_train_tree)\n",
        "acc_test_tree = accuracy_score(y_test,y_test_tree)\n",
        "print(\"Decision Tree: Accuracy on training Data: {:.3f}\".format(acc_train_tree))\n",
        "print(\"Decision Tree: Accuracy on test Data: {:.3f}\".format(acc_test_tree))"
      ]
    },
    {
      "cell_type": "code",
      "execution_count": null,
      "metadata": {
        "id": "m7SCupzuuTED"
      },
      "outputs": [],
      "source": [
        "#checking the feature improtance in the model\n",
        "plt.figure(figsize=(43,43))\n",
        "\n",
        "n_features = X_train.shape[1]\n",
        "\n",
        "plt.barh(range(n_features), tree.feature_importances_, align='center')\n",
        "plt.yticks(np.arange(n_features), X_train.columns)\n",
        "plt.xlabel(\"Feature importance\")\n",
        "\n",
        "plt.ylabel(\"Feature\")\n",
        "\n",
        "plt.show()"
      ]
    },
    {
      "cell_type": "code",
      "execution_count": null,
      "metadata": {
        "id": "_Vj6hl4avbQ0"
      },
      "outputs": [],
      "source": [
        "#storing the resuits. The delow mentioned order of porameter possing {s (sportant.\n",
        "#Coution: Execute only once to owoid duplications.\n",
        "storeResults('Decision Tree', acc_train_tree, acc_test_tree)"
      ]
    },
    {
      "cell_type": "markdown",
      "metadata": {
        "id": "Ot7UKwLkvkzF"
      },
      "source": [
        "# **2. Random Forest Classifier**"
      ]
    },
    {
      "cell_type": "code",
      "execution_count": null,
      "metadata": {
        "id": "DRmJUVVPwfO1"
      },
      "outputs": [],
      "source": [
        "# Randow Forest model\n",
        "\n",
        "from sklearn.ensemble import RandomForestClassifier\n",
        "# instontiote the model\n",
        "\n",
        "forest = RandomForestClassifier(max_depth=5)\n",
        "\n",
        "# fit the model\n",
        "\n",
        "forest.fit(X_train, y_train)"
      ]
    },
    {
      "cell_type": "code",
      "execution_count": null,
      "metadata": {
        "id": "PJSiv_ldx1UR"
      },
      "outputs": [],
      "source": [
        "#predicting the target volue from the model for the somples\n",
        "y_test_forest = forest.predict(X_test)\n",
        "y_train_forest = forest.predict(X_train)"
      ]
    },
    {
      "cell_type": "code",
      "execution_count": null,
      "metadata": {
        "id": "1aQH0D4Rx1X5"
      },
      "outputs": [],
      "source": [
        "#computing the occuracy of the model performonce\n",
        "\n",
        "acc_train_forest = accuracy_score(y_train,y_train_forest)\n",
        "\n",
        "acc_test_forest = accuracy_score(y_test,y_test_forest)\n",
        "\n",
        "print(\"Random forest: Accuracy on training Data: {:.3f}\".format(acc_train_forest))\n",
        "print(\"Random forest: Accuracy om test Dota: {:.3f}\".format(acc_test_forest))"
      ]
    },
    {
      "cell_type": "code",
      "execution_count": null,
      "metadata": {
        "id": "sYIlXG-ax1bT"
      },
      "outputs": [],
      "source": [
        "#checking the feature {mprotance in the model\n",
        "plt.figure(figsize=(45,45))\n",
        "\n",
        "n_features = X_train.shape[1]\n",
        "\n",
        "plt.barh(range(n_features), forest.feature_importances_, align='center')\n",
        "plt.yticks(np.arange(n_features), X_train.columns)\n",
        "\n",
        "plt.xlabel(\"Feature importance\")\n",
        "\n",
        "plt.ylabel(\"Feature\")\n",
        "\n",
        "plt.show()"
      ]
    },
    {
      "cell_type": "markdown",
      "metadata": {
        "id": "OO1F_g5tz7Mz"
      },
      "source": [
        "# **3. Multi Layer Perceptron**"
      ]
    },
    {
      "cell_type": "code",
      "execution_count": null,
      "metadata": {
        "id": "2VHQ54ki0AqC"
      },
      "outputs": [],
      "source": [
        "from sklearn.neural_network import MLPClassifier\n",
        "\n",
        "mlp = MLPClassifier(hidden_layer_sizes=(10,10,10), activation='relu', solver='adam', max_iter=1500)\n",
        "mlp.fit(X_train,y_train)\n",
        "\n",
        "y_train_mlp = mlp.predict(X_train)\n",
        "\n",
        "y_test_mlp = mlp.predict(X_test)"
      ]
    },
    {
      "cell_type": "code",
      "execution_count": null,
      "metadata": {
        "id": "hmiWP3LK0NE0"
      },
      "outputs": [],
      "source": [
        "acc_train_mlp = accuracy_score(y_train,y_train_mlp)\n",
        "\n",
        "acc_test_mlp = accuracy_score(y_test,y_test_mlp)\n",
        "\n",
        "print(\"MLP: Accuracy on training Data: {:.5f}\".format(acc_train_mlp))\n",
        "print(\"MLP: Accuracy on test Data: {:.5f}\".format(acc_test_mlp))"
      ]
    },
    {
      "cell_type": "markdown",
      "metadata": {
        "id": "9dpR6ftG0aCQ"
      },
      "source": [
        "# **4. Logistic Regression**"
      ]
    },
    {
      "cell_type": "code",
      "execution_count": null,
      "metadata": {
        "id": "IH5-UnJH0fKf"
      },
      "outputs": [],
      "source": [
        "from sklearn.linear_model import LogisticRegression\n",
        "regressor = LogisticRegression(solver='lbfgs', max_iter=100)\n",
        "regressor.fit(X_train, y_train)"
      ]
    },
    {
      "cell_type": "code",
      "execution_count": null,
      "metadata": {
        "id": "0RrkkV-L07lL"
      },
      "outputs": [],
      "source": [
        "#predicting the target value from the model for the samples\n",
        "y_test_regressor = regressor.predict(X_test)\n",
        "y_train_regressor = regressor.predict(X_train)"
      ]
    },
    {
      "cell_type": "code",
      "execution_count": null,
      "metadata": {
        "id": "YnJDFzrk1AEN"
      },
      "outputs": [],
      "source": [
        "#computing the accuracy of the model performance\n",
        "\n",
        "from sklearn.metrics import accuracy_score\n",
        "\n",
        "acc_train_regressor = accuracy_score(y_train,y_train_regressor)\n",
        "\n",
        "acc_test_regressor = accuracy_score(y_test,y_test_regressor)\n",
        "\n",
        "print(\"Random forest: Accuracy on training Data: {:.5f}\".format(acc_train_regressor))\n",
        "print(\"Random forest: Accuracy on test Data: {:.5f}\".format(acc_test_regressor))"
      ]
    },
    {
      "cell_type": "code",
      "execution_count": null,
      "metadata": {
        "id": "4tQ2WLJr1LBA"
      },
      "outputs": [],
      "source": [
        "storeResults('Regression', acc_train_regressor, acc_test_regressor)"
      ]
    },
    {
      "cell_type": "markdown",
      "metadata": {
        "id": "iC9bxcx21V9r"
      },
      "source": [
        "# **5. Naive Bayes**"
      ]
    },
    {
      "cell_type": "code",
      "execution_count": null,
      "metadata": {
        "id": "E-X-7PY91lrI"
      },
      "outputs": [],
      "source": [
        "from sklearn.naive_bayes import GaussianNB\n",
        "naive = GaussianNB()\n",
        "naive.fit(X_train, y_train)"
      ]
    },
    {
      "cell_type": "code",
      "execution_count": null,
      "metadata": {
        "id": "dSHamrY81uQ8"
      },
      "outputs": [],
      "source": [
        "y_test_nb = naive.predict(X_test)\n",
        "y_train_nb = naive.predict(X_train)"
      ]
    },
    {
      "cell_type": "code",
      "execution_count": null,
      "metadata": {
        "id": "1BcWTFKh10ZD"
      },
      "outputs": [],
      "source": [
        "acc_train_nb = accuracy_score(y_train,y_train_nb)\n",
        "\n",
        "acc_test_nb = accuracy_score(y_test,y_test_nb)\n",
        "\n",
        "print(\"Naive Bayes: Accuracy on training Data: {:.5f}\".format(acc_train_nb))\n",
        "print(\"Naive Bayes: Accuracy on test Data: {:.5f}\".format(acc_test_nb))"
      ]
    },
    {
      "cell_type": "code",
      "execution_count": null,
      "metadata": {
        "id": "4zlrUL7q18Nb"
      },
      "outputs": [],
      "source": [
        "storeResults('NaiveBayes', acc_train_nb, acc_test_nb)"
      ]
    },
    {
      "cell_type": "markdown",
      "metadata": {
        "id": "m6inMZtu2M2p"
      },
      "source": [
        "# **Comparison of Models**"
      ]
    },
    {
      "cell_type": "code",
      "execution_count": null,
      "metadata": {
        "id": "Pfj5GKap2W0n"
      },
      "outputs": [],
      "source": [
        "#creating dataframe\n",
        "\n",
        "results = pd.DataFrame({ 'ML Model': ML_Model,\n",
        "  'Train Accuracy': acc_train,\n",
        "  'Test Accuracy': acc_test})\n",
        "\n",
        "results"
      ]
    },
    {
      "cell_type": "code",
      "execution_count": null,
      "metadata": {
        "id": "QIvVjcPZ2lDl"
      },
      "outputs": [],
      "source": [
        "#Sorting the datafram on accuracy\n",
        "results.sort_values(by=[ 'Test Accuracy', 'Train Accuracy'], ascending=False)"
      ]
    }
  ],
  "metadata": {
    "colab": {
      "provenance": []
    },
    "kernelspec": {
      "display_name": "Python 3",
      "name": "python3"
    },
    "language_info": {
      "name": "python"
    }
  },
  "nbformat": 4,
  "nbformat_minor": 0
}